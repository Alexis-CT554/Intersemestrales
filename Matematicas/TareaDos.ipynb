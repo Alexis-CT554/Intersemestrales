{
 "cells": [
  {
   "cell_type": "markdown",
   "id": "3400e35c",
   "metadata": {},
   "source": [
    "# Ejercicios Dos"
   ]
  },
  {
   "cell_type": "code",
   "execution_count": 10,
   "id": "f9c8f6b9",
   "metadata": {},
   "outputs": [],
   "source": [
    "import numpy as np\n",
    "import math"
   ]
  },
  {
   "cell_type": "markdown",
   "id": "9aacfbe6",
   "metadata": {},
   "source": [
    "## Ejercicio 1:"
   ]
  },
  {
   "cell_type": "code",
   "execution_count": 11,
   "id": "b320affd",
   "metadata": {},
   "outputs": [
    {
     "name": "stdout",
     "output_type": "stream",
     "text": [
      "---------A----------\n",
      "[[ 1  4]\n",
      " [-1  3]\n",
      " [ 2 -9]]\n",
      "-------Ceros--------\n",
      "[[0. 0.]\n",
      " [0. 0.]\n",
      " [0. 0.]]\n"
     ]
    }
   ],
   "source": [
    "A=np.array([[1,4],[-1,3],[2,-9]])\n",
    "cero=np.zeros((3,2))\n",
    "print(\"A\".center(20,'-'))\n",
    "print(A)\n",
    "print(\"Ceros\".center(20,'-'))\n",
    "print(cero)"
   ]
  },
  {
   "cell_type": "code",
   "execution_count": 15,
   "id": "83121f27",
   "metadata": {},
   "outputs": [
    {
     "name": "stdout",
     "output_type": "stream",
     "text": [
      "-----A + 0 = A------\n",
      "[[ 1.  4.]\n",
      " [-1.  3.]\n",
      " [ 2. -9.]]\n",
      "-----A - 0 = A------\n",
      "[[ 1.  4.]\n",
      " [-1.  3.]\n",
      " [ 2. -9.]]\n",
      "-----A - A = 0------\n",
      "[[0 0]\n",
      " [0 0]\n",
      " [0 0]]\n"
     ]
    }
   ],
   "source": [
    "print(\"A + 0 = A\".center(20,'-'))\n",
    "print(A + cero)\n",
    "print(\"A - 0 = A\".center(20,'-'))\n",
    "print(A - cero)\n",
    "print(\"A - A = 0\".center(20,'-'))\n",
    "print(A - A)"
   ]
  },
  {
   "cell_type": "markdown",
   "id": "e93eeb57",
   "metadata": {},
   "source": [
    "## Ejercicio 2:"
   ]
  },
  {
   "cell_type": "code",
   "execution_count": 21,
   "id": "58d28f33",
   "metadata": {},
   "outputs": [
    {
     "name": "stdout",
     "output_type": "stream",
     "text": [
      "---------A----------\n",
      "[[ 3  0]\n",
      " [-1  5]]\n",
      "---------B----------\n",
      "[[ 4 -2  1]\n",
      " [ 0  2  3]]\n"
     ]
    }
   ],
   "source": [
    "A2=np.array([[3,0],[-1,5]])\n",
    "B=np.array([[4,-2,1],[0,2,3]])\n",
    "print(\"A\".center(20,'-'))\n",
    "print(A2)\n",
    "print(\"B\".center(20,'-'))\n",
    "print(B)"
   ]
  },
  {
   "cell_type": "code",
   "execution_count": 25,
   "id": "ac8cfb65",
   "metadata": {},
   "outputs": [
    {
     "name": "stdout",
     "output_type": "stream",
     "text": [
      "---------3B---------\n",
      "[[12 -6  3]\n",
      " [ 0  6  9]]\n",
      "Dado que las matrices son de diferente dimesion, solo se puede realizar la multiplicacion de '3B'\n",
      "-------A + 3B-------\n"
     ]
    },
    {
     "ename": "ValueError",
     "evalue": "operands could not be broadcast together with shapes (2,2) (2,3) ",
     "output_type": "error",
     "traceback": [
      "\u001b[1;31m---------------------------------------------------------------------------\u001b[0m",
      "\u001b[1;31mValueError\u001b[0m                                Traceback (most recent call last)",
      "Cell \u001b[1;32mIn[25], line 5\u001b[0m\n\u001b[0;32m      3\u001b[0m \u001b[38;5;28mprint\u001b[39m(\u001b[38;5;124m\"\u001b[39m\u001b[38;5;124mDado que las matrices son de diferente dimesion, solo se puede realizar la multiplicacion de \u001b[39m\u001b[38;5;124m'\u001b[39m\u001b[38;5;124m3B\u001b[39m\u001b[38;5;124m'\u001b[39m\u001b[38;5;124m\"\u001b[39m)\n\u001b[0;32m      4\u001b[0m \u001b[38;5;28mprint\u001b[39m(\u001b[38;5;124m\"\u001b[39m\u001b[38;5;124mA + 3B\u001b[39m\u001b[38;5;124m\"\u001b[39m\u001b[38;5;241m.\u001b[39mcenter(\u001b[38;5;241m20\u001b[39m,\u001b[38;5;124m'\u001b[39m\u001b[38;5;124m-\u001b[39m\u001b[38;5;124m'\u001b[39m))\n\u001b[1;32m----> 5\u001b[0m \u001b[38;5;28mprint\u001b[39m(\u001b[43mA2\u001b[49m\u001b[43m \u001b[49m\u001b[38;5;241;43m+\u001b[39;49m\u001b[43m \u001b[49m\u001b[38;5;241;43m3\u001b[39;49m\u001b[38;5;241;43m*\u001b[39;49m\u001b[43mB\u001b[49m)\n",
      "\u001b[1;31mValueError\u001b[0m: operands could not be broadcast together with shapes (2,2) (2,3) "
     ]
    }
   ],
   "source": [
    "print(\"3B\".center(20,'-'))\n",
    "print(3*B)\n",
    "print(\"Dado que las matrices son de diferente dimesion, solo se puede realizar la multiplicacion de '3B'\")\n",
    "print(\"A + 3B\".center(20,'-'))\n",
    "print(A2 + 3*B)"
   ]
  },
  {
   "cell_type": "code",
   "execution_count": 34,
   "id": "2097bc7d",
   "metadata": {},
   "outputs": [
    {
     "name": "stdout",
     "output_type": "stream",
     "text": [
      "---------AB---------\n",
      "[[12 -6  3]\n",
      " [-4 12 14]]\n",
      "--------A^3---------\n",
      "[[ 27   0]\n",
      " [-49 125]]\n",
      "--------B^2---------\n",
      "La matriz de B no se puede elevar por que no es cuadrada\n"
     ]
    },
    {
     "ename": "LinAlgError",
     "evalue": "Last 2 dimensions of the array must be square",
     "output_type": "error",
     "traceback": [
      "\u001b[1;31m---------------------------------------------------------------------------\u001b[0m",
      "\u001b[1;31mLinAlgError\u001b[0m                               Traceback (most recent call last)",
      "Cell \u001b[1;32mIn[34], line 7\u001b[0m\n\u001b[0;32m      5\u001b[0m \u001b[38;5;28mprint\u001b[39m(\u001b[38;5;124m\"\u001b[39m\u001b[38;5;124mB^2\u001b[39m\u001b[38;5;124m\"\u001b[39m\u001b[38;5;241m.\u001b[39mcenter(\u001b[38;5;241m20\u001b[39m,\u001b[38;5;124m'\u001b[39m\u001b[38;5;124m-\u001b[39m\u001b[38;5;124m'\u001b[39m))\n\u001b[0;32m      6\u001b[0m \u001b[38;5;28mprint\u001b[39m(\u001b[38;5;124m\"\u001b[39m\u001b[38;5;124mLa matriz de B no se puede elevar por que no es cuadrada\u001b[39m\u001b[38;5;124m\"\u001b[39m)\n\u001b[1;32m----> 7\u001b[0m \u001b[38;5;28mprint\u001b[39m(\u001b[43mnp\u001b[49m\u001b[38;5;241;43m.\u001b[39;49m\u001b[43mlinalg\u001b[49m\u001b[38;5;241;43m.\u001b[39;49m\u001b[43mmatrix_power\u001b[49m\u001b[43m(\u001b[49m\u001b[43mB\u001b[49m\u001b[43m,\u001b[49m\u001b[38;5;241;43m2\u001b[39;49m\u001b[43m)\u001b[49m)\n",
      "File \u001b[1;32m<__array_function__ internals>:180\u001b[0m, in \u001b[0;36mmatrix_power\u001b[1;34m(*args, **kwargs)\u001b[0m\n",
      "File \u001b[1;32mC:\\ProgramData\\anaconda3\\lib\\site-packages\\numpy\\linalg\\linalg.py:627\u001b[0m, in \u001b[0;36mmatrix_power\u001b[1;34m(a, n)\u001b[0m\n\u001b[0;32m    625\u001b[0m a \u001b[38;5;241m=\u001b[39m asanyarray(a)\n\u001b[0;32m    626\u001b[0m _assert_stacked_2d(a)\n\u001b[1;32m--> 627\u001b[0m \u001b[43m_assert_stacked_square\u001b[49m\u001b[43m(\u001b[49m\u001b[43ma\u001b[49m\u001b[43m)\u001b[49m\n\u001b[0;32m    629\u001b[0m \u001b[38;5;28;01mtry\u001b[39;00m:\n\u001b[0;32m    630\u001b[0m     n \u001b[38;5;241m=\u001b[39m operator\u001b[38;5;241m.\u001b[39mindex(n)\n",
      "File \u001b[1;32mC:\\ProgramData\\anaconda3\\lib\\site-packages\\numpy\\linalg\\linalg.py:204\u001b[0m, in \u001b[0;36m_assert_stacked_square\u001b[1;34m(*arrays)\u001b[0m\n\u001b[0;32m    202\u001b[0m m, n \u001b[38;5;241m=\u001b[39m a\u001b[38;5;241m.\u001b[39mshape[\u001b[38;5;241m-\u001b[39m\u001b[38;5;241m2\u001b[39m:]\n\u001b[0;32m    203\u001b[0m \u001b[38;5;28;01mif\u001b[39;00m m \u001b[38;5;241m!=\u001b[39m n:\n\u001b[1;32m--> 204\u001b[0m     \u001b[38;5;28;01mraise\u001b[39;00m LinAlgError(\u001b[38;5;124m'\u001b[39m\u001b[38;5;124mLast 2 dimensions of the array must be square\u001b[39m\u001b[38;5;124m'\u001b[39m)\n",
      "\u001b[1;31mLinAlgError\u001b[0m: Last 2 dimensions of the array must be square"
     ]
    }
   ],
   "source": [
    "print(\"AB\".center(20,'-'))\n",
    "print(A2@B)\n",
    "print(\"A^3\".center(20,'-'))\n",
    "print(np.linalg.matrix_power(A2,3))\n",
    "print(\"B^2\".center(20,'-'))\n",
    "print(\"La matriz de B no se puede elevar por que no es cuadrada\")\n",
    "print(np.linalg.matrix_power(B,2))    \n"
   ]
  },
  {
   "cell_type": "code",
   "execution_count": 36,
   "id": "fcbb9f27",
   "metadata": {},
   "outputs": [
    {
     "name": "stdout",
     "output_type": "stream",
     "text": [
      "-------(5A)B--------\n",
      "[[ 60 -30  15]\n",
      " [-20  60  70]]\n"
     ]
    }
   ],
   "source": [
    "print(\"(5A)B\".center(20,'-'))\n",
    "print((5*A2)@B)"
   ]
  },
  {
   "cell_type": "markdown",
   "id": "4ee0704a",
   "metadata": {},
   "source": [
    "## Ejercicio 3:"
   ]
  },
  {
   "cell_type": "code",
   "execution_count": 43,
   "id": "52ccb4e4",
   "metadata": {},
   "outputs": [
    {
     "name": "stdout",
     "output_type": "stream",
     "text": [
      "----------------Tiendas-----------------\n",
      "[[1.2 1.3]\n",
      " [2.2 2.1]\n",
      " [4.5 4.6]]\n",
      "-------------Costo Tienda 1-------------\n",
      "192.6\n",
      "-------------Costo Tienda 2-------------\n",
      "196.0\n"
     ]
    }
   ],
   "source": [
    "restaurantes = np.array([[30,15,4],[25,18,8]])\n",
    "tiendas = np.array([[1.2,2.2,4.5],[1.3,2.1,4.6]])\n",
    "print(\"Tiendas\".center(40,'-'))\n",
    "print(tiendas.T)\n",
    "costo_por_tienda = restaurantes@tiendas.T\n",
    "print(\"Costo Tienda 1\".center(40,'-'))\n",
    "print(costo_por_tienda[0,0]+costo_por_tienda[1,0])\n",
    "print(\"Costo Tienda 2\".center(40,'-'))\n",
    "print(costo_por_tienda[0,1]+costo_por_tienda[1,1])"
   ]
  },
  {
   "cell_type": "markdown",
   "id": "2cfecaf8",
   "metadata": {},
   "source": [
    "## Ejercicio 4:"
   ]
  },
  {
   "cell_type": "code",
   "execution_count": 67,
   "id": "beb20cdb",
   "metadata": {},
   "outputs": [
    {
     "name": "stdout",
     "output_type": "stream",
     "text": [
      "-----Productos------\n",
      "[[200 150 100]\n",
      " [ 75 100 125]]\n",
      "-----Embarques------\n",
      "[[1.5  1.75]\n",
      " [1.   1.5 ]\n",
      " [2.   1.  ]]\n",
      "--Matriz de costos--\n",
      "[[650.   675.  ]\n",
      " [462.5  406.25]]\n",
      "------------------------------\n",
      "Almacen 1: \n",
      " Camion: $650.0 \n",
      " Tren: $462.5 \n",
      " Total: $1112.5\n",
      "------------------------------\n",
      "Almacen 2: \n",
      " Camion: $675.0 \n",
      " Tren: $406.25 \n",
      " Total: $1081.25\n",
      "------------------------------\n",
      "Sale mas rentable por tren\n"
     ]
    }
   ],
   "source": [
    "productos=np.array([[200,75],[150,100],[100,125]]).T\n",
    "print(\"Productos\".center(20,'-'))\n",
    "print(productos)\n",
    "embarques=np.array([[1.50,1.75],[1,1.50],[2,1]])\n",
    "print(\"Embarques\".center(20,'-'))\n",
    "print(embarques)\n",
    "print(\"Matriz de costos\".center(20,'-'))\n",
    "costos=productos@embarques\n",
    "print(costos)\n",
    "print(\"-\".center(30,'-'))\n",
    "print(f\"Almacen 1: \\n Camion: ${costos[0,0]} \\n Tren: ${costos[1,0]} \\n Total: ${costos[0,0]+costos[1,0]}\")\n",
    "print(\"-\".center(30,'-'))\n",
    "print(f\"Almacen 2: \\n Camion: ${costos[0,1]} \\n Tren: ${costos[1,1]} \\n Total: ${costos[0,1]+costos[1,1]}\")\n",
    "camion = costos[0,0]+costos[1,0]\n",
    "tren = costos[0,1]+costos[1,1]\n",
    "print(\"-\".center(30,'-'))\n",
    "if camion > tren:\n",
    "    print(\"Sale mas rentable por tren\")\n",
    "else:\n",
    "    print(\"Sale mas rentable por camion\")"
   ]
  },
  {
   "cell_type": "markdown",
   "id": "b76b319a",
   "metadata": {},
   "source": [
    "## Ejercicio 5"
   ]
  },
  {
   "cell_type": "code",
   "execution_count": 71,
   "id": "405eea25",
   "metadata": {},
   "outputs": [
    {
     "name": "stdout",
     "output_type": "stream",
     "text": [
      "---------------Sistema 1----------------\n",
      "-----Ecuaciones-----\n",
      "[[3 2]\n",
      " [6 4]]\n",
      "---Independientes---\n",
      "[ 6 -9]\n",
      "------Solucion------\n",
      "No se encuentra una solucion ya que las rectas son paralelas\n"
     ]
    },
    {
     "ename": "LinAlgError",
     "evalue": "Singular matrix",
     "output_type": "error",
     "traceback": [
      "\u001b[1;31m---------------------------------------------------------------------------\u001b[0m",
      "\u001b[1;31mLinAlgError\u001b[0m                               Traceback (most recent call last)",
      "Cell \u001b[1;32mIn[71], line 10\u001b[0m\n\u001b[0;32m      8\u001b[0m \u001b[38;5;28mprint\u001b[39m(\u001b[38;5;124m\"\u001b[39m\u001b[38;5;124mSolucion\u001b[39m\u001b[38;5;124m\"\u001b[39m\u001b[38;5;241m.\u001b[39mcenter(\u001b[38;5;241m20\u001b[39m,\u001b[38;5;124m'\u001b[39m\u001b[38;5;124m-\u001b[39m\u001b[38;5;124m'\u001b[39m))\n\u001b[0;32m      9\u001b[0m \u001b[38;5;28mprint\u001b[39m(\u001b[38;5;124m\"\u001b[39m\u001b[38;5;124mNo se encuentra una solucion ya que las rectas son paralelas\u001b[39m\u001b[38;5;124m\"\u001b[39m)\n\u001b[1;32m---> 10\u001b[0m \u001b[38;5;28mprint\u001b[39m(\u001b[43mnp\u001b[49m\u001b[38;5;241;43m.\u001b[39;49m\u001b[43mlinalg\u001b[49m\u001b[38;5;241;43m.\u001b[39;49m\u001b[43msolve\u001b[49m\u001b[43m(\u001b[49m\u001b[43meq0\u001b[49m\u001b[43m,\u001b[49m\u001b[43mind0\u001b[49m\u001b[43m)\u001b[49m)\n",
      "File \u001b[1;32m<__array_function__ internals>:180\u001b[0m, in \u001b[0;36msolve\u001b[1;34m(*args, **kwargs)\u001b[0m\n",
      "File \u001b[1;32mC:\\ProgramData\\anaconda3\\lib\\site-packages\\numpy\\linalg\\linalg.py:400\u001b[0m, in \u001b[0;36msolve\u001b[1;34m(a, b)\u001b[0m\n\u001b[0;32m    398\u001b[0m signature \u001b[38;5;241m=\u001b[39m \u001b[38;5;124m'\u001b[39m\u001b[38;5;124mDD->D\u001b[39m\u001b[38;5;124m'\u001b[39m \u001b[38;5;28;01mif\u001b[39;00m isComplexType(t) \u001b[38;5;28;01melse\u001b[39;00m \u001b[38;5;124m'\u001b[39m\u001b[38;5;124mdd->d\u001b[39m\u001b[38;5;124m'\u001b[39m\n\u001b[0;32m    399\u001b[0m extobj \u001b[38;5;241m=\u001b[39m get_linalg_error_extobj(_raise_linalgerror_singular)\n\u001b[1;32m--> 400\u001b[0m r \u001b[38;5;241m=\u001b[39m \u001b[43mgufunc\u001b[49m\u001b[43m(\u001b[49m\u001b[43ma\u001b[49m\u001b[43m,\u001b[49m\u001b[43m \u001b[49m\u001b[43mb\u001b[49m\u001b[43m,\u001b[49m\u001b[43m \u001b[49m\u001b[43msignature\u001b[49m\u001b[38;5;241;43m=\u001b[39;49m\u001b[43msignature\u001b[49m\u001b[43m,\u001b[49m\u001b[43m \u001b[49m\u001b[43mextobj\u001b[49m\u001b[38;5;241;43m=\u001b[39;49m\u001b[43mextobj\u001b[49m\u001b[43m)\u001b[49m\n\u001b[0;32m    402\u001b[0m \u001b[38;5;28;01mreturn\u001b[39;00m wrap(r\u001b[38;5;241m.\u001b[39mastype(result_t, copy\u001b[38;5;241m=\u001b[39m\u001b[38;5;28;01mFalse\u001b[39;00m))\n",
      "File \u001b[1;32mC:\\ProgramData\\anaconda3\\lib\\site-packages\\numpy\\linalg\\linalg.py:89\u001b[0m, in \u001b[0;36m_raise_linalgerror_singular\u001b[1;34m(err, flag)\u001b[0m\n\u001b[0;32m     88\u001b[0m \u001b[38;5;28;01mdef\u001b[39;00m \u001b[38;5;21m_raise_linalgerror_singular\u001b[39m(err, flag):\n\u001b[1;32m---> 89\u001b[0m     \u001b[38;5;28;01mraise\u001b[39;00m LinAlgError(\u001b[38;5;124m\"\u001b[39m\u001b[38;5;124mSingular matrix\u001b[39m\u001b[38;5;124m\"\u001b[39m)\n",
      "\u001b[1;31mLinAlgError\u001b[0m: Singular matrix"
     ]
    }
   ],
   "source": [
    "print(\"Sistema 1\".center(40,'-'))\n",
    "eq0=np.array([[3,2],[6,4]])\n",
    "print(\"Ecuaciones\".center(20,'-'))\n",
    "print(eq0)\n",
    "ind0=np.array([6,-9])\n",
    "print(\"Independientes\".center(20,'-'))\n",
    "print(ind0)\n",
    "print(\"Solucion\".center(20,'-'))\n",
    "print(\"No se encuentra una solucion ya que las rectas son paralelas\")\n",
    "print(np.linalg.solve(eq0,ind0))"
   ]
  },
  {
   "cell_type": "code",
   "execution_count": 81,
   "id": "6da1a181",
   "metadata": {},
   "outputs": [
    {
     "name": "stdout",
     "output_type": "stream",
     "text": [
      "---------------Sistema 2----------------\n",
      "-----Ecuaciones-----\n",
      "[[ 1  1]\n",
      " [ 1 -4]]\n",
      "---Independientes---\n",
      "[3 1]\n",
      "------Solucion------\n",
      "[2.6 0.4]\n",
      "x= 2.6\t y= 0.4\n",
      "---------------Sistema 3----------------\n",
      "-----Ecuaciones-----\n",
      "[[ 2 -1  2]\n",
      " [ 2  3 -1]\n",
      " [ 1  2  2]]\n",
      "---Independientes---\n",
      "[  3   0 -12]\n",
      "------Solucion------\n",
      "[ 3.65217391 -3.7826087  -4.04347826]\n",
      "x= 3.6521739130434785\t y= -3.782608695652174 \t z=-4.043478260869565\n"
     ]
    }
   ],
   "source": [
    "print(\"Sistema 2\".center(40,'-'))\n",
    "eq1=np.array([[1,1],[1,-4]])\n",
    "print(\"Ecuaciones\".center(20,'-'))\n",
    "print(eq1)\n",
    "ind1=np.array([3,1])\n",
    "print(\"Independientes\".center(20,'-'))\n",
    "print(ind1)\n",
    "print(\"Solucion\".center(20,'-'))\n",
    "sol1=np.linalg.solve(eq1,ind1)\n",
    "print(sol1)\n",
    "print(f\"x= {sol1[0]}\\t y= {sol1[1]}\")\n",
    "\n",
    "print(\"Sistema 3\".center(40,'-'))\n",
    "eq2=np.array([[2,-1,2],[2,3,-1],[1,2,2]])\n",
    "print(\"Ecuaciones\".center(20,'-'))\n",
    "print(eq2)\n",
    "ind2=np.array([3,0,-12])\n",
    "print(\"Independientes\".center(20,'-'))\n",
    "print(ind2)\n",
    "print(\"Solucion\".center(20,'-'))\n",
    "sol2=np.linalg.solve(eq2,ind2)\n",
    "print(sol2)\n",
    "print(f\"x= {sol2[0]}\\t y= {sol2[1]} \\t z={sol2[2]}\")"
   ]
  }
 ],
 "metadata": {
  "kernelspec": {
   "display_name": "Python 3 (ipykernel)",
   "language": "python",
   "name": "python3"
  },
  "language_info": {
   "codemirror_mode": {
    "name": "ipython",
    "version": 3
   },
   "file_extension": ".py",
   "mimetype": "text/x-python",
   "name": "python",
   "nbconvert_exporter": "python",
   "pygments_lexer": "ipython3",
   "version": "3.10.9"
  }
 },
 "nbformat": 4,
 "nbformat_minor": 5
}
