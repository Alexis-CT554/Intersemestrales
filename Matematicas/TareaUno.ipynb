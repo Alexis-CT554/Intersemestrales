{
 "cells": [
  {
   "cell_type": "markdown",
   "id": "1340b59d",
   "metadata": {},
   "source": [
    "# Ejercicios 1"
   ]
  },
  {
   "cell_type": "code",
   "execution_count": 1,
   "id": "f95c5a4c",
   "metadata": {},
   "outputs": [],
   "source": [
    "import math"
   ]
  },
  {
   "cell_type": "code",
   "execution_count": 5,
   "id": "3574f105",
   "metadata": {},
   "outputs": [
    {
     "name": "stdout",
     "output_type": "stream",
     "text": [
      "11\n"
     ]
    }
   ],
   "source": [
    "print(math.ceil(math.log(2000,2)))"
   ]
  },
  {
   "cell_type": "markdown",
   "id": "f120e073",
   "metadata": {},
   "source": [
    "# Ejercicio 2"
   ]
  },
  {
   "cell_type": "code",
   "execution_count": 6,
   "id": "5a625157",
   "metadata": {},
   "outputs": [
    {
     "name": "stdout",
     "output_type": "stream",
     "text": [
      "1.0\n"
     ]
    }
   ],
   "source": [
    "print(math.log(2,2)+math.log(1,2))"
   ]
  },
  {
   "cell_type": "markdown",
   "id": "3c385d76",
   "metadata": {},
   "source": [
    "# Ejercicio 3"
   ]
  },
  {
   "cell_type": "markdown",
   "id": "aac78805",
   "metadata": {},
   "source": [
    "#### 90°"
   ]
  },
  {
   "cell_type": "code",
   "execution_count": 14,
   "id": "7c7d6e1f",
   "metadata": {
    "scrolled": true
   },
   "outputs": [
    {
     "name": "stdout",
     "output_type": "stream",
     "text": [
      "-1.0\n",
      "1.2246467991473532e-16\n"
     ]
    }
   ],
   "source": [
    "radianes0=(math.pi/180)*180\n",
    "print(math.cos(radianes0))\n",
    "print(math.sin(radianes0))"
   ]
  },
  {
   "cell_type": "markdown",
   "id": "d44207c6",
   "metadata": {},
   "source": [
    "#### 135"
   ]
  },
  {
   "cell_type": "code",
   "execution_count": 15,
   "id": "a0b6e7f3",
   "metadata": {},
   "outputs": [
    {
     "name": "stdout",
     "output_type": "stream",
     "text": [
      "-0.7071067811865475\n",
      "0.7071067811865476\n"
     ]
    }
   ],
   "source": [
    "radianes1=(math.pi/180)*135\n",
    "print(math.cos(radianes1))\n",
    "print(math.sin(radianes1))"
   ]
  },
  {
   "cell_type": "markdown",
   "id": "819a5f5f",
   "metadata": {},
   "source": [
    "#### 330"
   ]
  },
  {
   "cell_type": "code",
   "execution_count": 16,
   "id": "013ed427",
   "metadata": {},
   "outputs": [
    {
     "name": "stdout",
     "output_type": "stream",
     "text": [
      "0.8660254037844384\n",
      "-0.5000000000000004\n"
     ]
    }
   ],
   "source": [
    "radianes2=(math.pi/180)*330\n",
    "print(math.cos(radianes2))\n",
    "print(math.sin(radianes2))"
   ]
  },
  {
   "cell_type": "markdown",
   "id": "aa0e474e",
   "metadata": {},
   "source": [
    "#### 750"
   ]
  },
  {
   "cell_type": "code",
   "execution_count": 17,
   "id": "bdee372d",
   "metadata": {},
   "outputs": [
    {
     "name": "stdout",
     "output_type": "stream",
     "text": [
      "0.8660254037844387\n",
      "0.49999999999999994\n"
     ]
    }
   ],
   "source": [
    "radianes3=(math.pi/180)*30\n",
    "print(math.cos(radianes3))\n",
    "print(math.sin(radianes3))"
   ]
  },
  {
   "cell_type": "markdown",
   "id": "d49689ad",
   "metadata": {},
   "source": [
    "# Ejercicio 4"
   ]
  },
  {
   "cell_type": "code",
   "execution_count": 11,
   "id": "7c6c2504",
   "metadata": {},
   "outputs": [
    {
     "name": "stdout",
     "output_type": "stream",
     "text": [
      "11232000\n"
     ]
    }
   ],
   "source": [
    "print(math.perm(26,3)*math.perm(10,3))"
   ]
  },
  {
   "cell_type": "code",
   "execution_count": 12,
   "id": "bee8f376",
   "metadata": {},
   "outputs": [
    {
     "name": "stdout",
     "output_type": "stream",
     "text": [
      "17576000.0\n"
     ]
    }
   ],
   "source": [
    "print(math.pow(26,3)*math.pow(10,3))"
   ]
  },
  {
   "cell_type": "markdown",
   "id": "014d9b65",
   "metadata": {},
   "source": [
    "# Ejercicio 5"
   ]
  },
  {
   "cell_type": "code",
   "execution_count": 13,
   "id": "842b4047",
   "metadata": {},
   "outputs": [
    {
     "name": "stdout",
     "output_type": "stream",
     "text": [
      "10\n"
     ]
    }
   ],
   "source": [
    "print(math.comb(5,3))"
   ]
  }
 ],
 "metadata": {
  "kernelspec": {
   "display_name": "Python 3 (ipykernel)",
   "language": "python",
   "name": "python3"
  },
  "language_info": {
   "codemirror_mode": {
    "name": "ipython",
    "version": 3
   },
   "file_extension": ".py",
   "mimetype": "text/x-python",
   "name": "python",
   "nbconvert_exporter": "python",
   "pygments_lexer": "ipython3",
   "version": "3.10.9"
  }
 },
 "nbformat": 4,
 "nbformat_minor": 5
}
