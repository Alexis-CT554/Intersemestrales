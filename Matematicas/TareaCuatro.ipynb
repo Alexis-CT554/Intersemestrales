{
 "cells": [
  {
   "cell_type": "code",
   "execution_count": 3,
   "id": "99d83ac0",
   "metadata": {},
   "outputs": [],
   "source": [
    "import matplotlib.pyplot as plt\n",
    "import numpy as np\n",
    "import statistics as sts"
   ]
  },
  {
   "cell_type": "markdown",
   "id": "555478ab",
   "metadata": {},
   "source": [
    "## Ejercicios Cuatro"
   ]
  },
  {
   "cell_type": "code",
   "execution_count": 79,
   "id": "d4591d34",
   "metadata": {},
   "outputs": [
    {
     "name": "stdout",
     "output_type": "stream",
     "text": [
      "------------------------------------Serie 1-------------------------------------\n",
      "[159. 136. 180. 129. 162. 150. 129. 146. 128. 178. 144. 167. 132. 172.\n",
      " 156. 178. 129. 142. 146. 159. 131. 135. 168. 152. 163. 145. 173. 147.\n",
      " 137. 143. 142. 133. 152. 166. 146. 131. 131. 160. 162. 146. 151. 179.\n",
      " 146. 142. 172. 175. 166. 137. 162. 159.]\n",
      "------------------------------------Serie 2-------------------------------------\n",
      "[1.34 1.2  1.41 1.52 1.49 1.3  1.24 1.29 1.53 1.55 1.37 1.56 1.56 1.39\n",
      " 1.39 1.51 1.59 1.54 1.29 1.44 1.5  1.22 1.32 1.42 1.42 1.6  1.58 1.31\n",
      " 1.45 1.29 1.51 1.4  1.29 1.57 1.24 1.44 1.28 1.52 1.49 1.41 1.32 1.31\n",
      " 1.23 1.25 1.57 1.53 1.35 1.57 1.5  1.49]\n",
      "--------------------------------Series ordenadas--------------------------------\n",
      "--------------------------------Serie 1 ordenada--------------------------------\n",
      "[128. 129. 129. 129. 131. 131. 131. 132. 133. 135. 136. 137. 137. 142.\n",
      " 142. 142. 143. 144. 145. 146. 146. 146. 146. 146. 147. 150. 151. 152.\n",
      " 152. 156. 159. 159. 159. 160. 162. 162. 162. 163. 166. 166. 167. 168.\n",
      " 172. 172. 173. 175. 178. 178. 179. 180.]\n",
      "--------------------------------Serie 2 ordenada--------------------------------\n",
      "[1.2  1.22 1.23 1.24 1.24 1.25 1.28 1.29 1.29 1.29 1.29 1.3  1.31 1.31\n",
      " 1.32 1.32 1.34 1.35 1.37 1.39 1.39 1.4  1.41 1.41 1.42 1.42 1.44 1.44\n",
      " 1.45 1.49 1.49 1.49 1.5  1.5  1.51 1.51 1.52 1.52 1.53 1.53 1.54 1.55\n",
      " 1.56 1.56 1.57 1.57 1.57 1.58 1.59 1.6 ]\n"
     ]
    }
   ],
   "source": [
    "arg01 = np.loadtxt('./Ejercicio4-1.csv',delimiter=\" \",dtype=np.float64)\n",
    "arg02 = np.loadtxt('./Ejercicio4-2.csv',delimiter=\" \", dtype=np.float32)\n",
    "print(\"Serie 1\".center(80,'-'))\n",
    "print(arg01)\n",
    "print(\"Serie 2\".center(80,'-'))\n",
    "print(arg02)\n",
    "print(\"Series ordenadas\".center(80,'-'))\n",
    "arg1=np.sort(arg01)\n",
    "print(\"Serie 1 ordenada\".center(80,'-'))\n",
    "print(arg1)\n",
    "arg2=np.sort(arg02)\n",
    "print(\"Serie 2 ordenada\".center(80,'-'))\n",
    "print(arg2)"
   ]
  },
  {
   "cell_type": "markdown",
   "id": "f7568bec",
   "metadata": {},
   "source": [
    "### Valor mas grande y pequeño"
   ]
  },
  {
   "cell_type": "code",
   "execution_count": 22,
   "id": "ccb72dc7",
   "metadata": {},
   "outputs": [
    {
     "name": "stdout",
     "output_type": "stream",
     "text": [
      "------------------------Valor Maximo------------------------\n",
      "Valor maximo serie 1: 180.0\n",
      "Valor maximo serie 2: 1.6\n",
      "------------------------Valor Minimo------------------------\n",
      "Valor minimo serie 1: 128.0\n",
      "Valor minimo serie 2: 1.2\n"
     ]
    }
   ],
   "source": [
    "print(\"Valor Maximo\".center(60,'-'))\n",
    "print(\"Valor maximo serie 1:\", np.max(arg1))\n",
    "print(\"Valor maximo serie 2:\", np.max(arg2))\n",
    "print(\"Valor Minimo\".center(60,'-'))\n",
    "print(\"Valor minimo serie 1:\", np.min(arg1))\n",
    "print(\"Valor minimo serie 2:\", np.min(arg2))"
   ]
  },
  {
   "cell_type": "markdown",
   "id": "54f18073",
   "metadata": {},
   "source": [
    "### Mayor o igual - menor o igual"
   ]
  },
  {
   "cell_type": "code",
   "execution_count": 44,
   "id": "f1f858b1",
   "metadata": {},
   "outputs": [
    {
     "name": "stdout",
     "output_type": "stream",
     "text": [
      "---------------------------------Mayor o igual----------------------------------\n",
      "Estudiantes con un peso mayor o igual a 125: 50\n",
      "Tornillos con un valor mayor o igual a 1.25: 45\n",
      "---------------------------------Menor o igual----------------------------------\n",
      "Estudiantes con un peso menor o igual a 138: 13\n",
      "Tornillos con un valor mayor o igual a 1.32: 16\n"
     ]
    }
   ],
   "source": [
    "print(\"Mayor o igual\".center(80,'-'))\n",
    "suma1_s1=np.where(arg1>=125.,1,0).sum()\n",
    "print(\"Estudiantes con un peso mayor o igual a 125:\", suma1_s1)\n",
    "suma1_s2 = np.where(arg2 >=1.25,1,0).sum()\n",
    "print(\"Tornillos con un valor mayor o igual a 1.25:\", suma1_s2)\n",
    "\n",
    "print(\"Menor o igual\".center(80,'-'))\n",
    "suma2_s1=np.where(arg1<=138.,1,0).sum()\n",
    "print(\"Estudiantes con un peso menor o igual a 138:\", suma2_s1)\n",
    "suma2_s2 = np.where(arg2<=1.32,1,0).sum()\n",
    "print(\"Tornillos con un valor mayor o igual a 1.32:\", suma2_s2)"
   ]
  },
  {
   "cell_type": "markdown",
   "id": "a2646062",
   "metadata": {},
   "source": [
    "### Porcentaje de valores"
   ]
  },
  {
   "cell_type": "code",
   "execution_count": 57,
   "id": "ab6103d5",
   "metadata": {},
   "outputs": [
    {
     "name": "stdout",
     "output_type": "stream",
     "text": [
      "--------------------Elementos dentro del rango (129<=x<=146)--------------------\n",
      "\n",
      "% de estudiantes (129>=x<=146) 46.0 %\n",
      "\n",
      "Vector de estudiantes:\n",
      "\n",
      " [array([129., 129., 129., 131., 131., 131., 132., 133., 135., 136., 137.,\n",
      "       137., 142., 142., 142., 143., 144., 145., 146., 146., 146., 146.,\n",
      "       146.], dtype=float32)] \n",
      "\n",
      "\n",
      "-------------------Elementos dentro del rango (1.39<x>=1.41)--------------------\n",
      "\n",
      "% de tornillos (1.39<x>=1.41) 56.00000000000001 %\n",
      "\n",
      "Vector de tornillos:\n",
      "\n",
      " [array([1.41, 1.41, 1.42, 1.42, 1.44, 1.44, 1.45, 1.49, 1.49, 1.49, 1.5 ,\n",
      "       1.5 , 1.51, 1.51, 1.52, 1.52, 1.53, 1.53, 1.54, 1.55, 1.56, 1.56,\n",
      "       1.57, 1.57, 1.57, 1.58, 1.59, 1.6 ], dtype=float32)]\n"
     ]
    }
   ],
   "source": [
    "sumaDos=np.where((arg1>=129) &(arg1<=146),1,0).sum()/np.size(arg1)\n",
    "indices1 = np.where((arg1 >= 129) & (arg1 <= 146))\n",
    "print(\"Elementos dentro del rango (129<=x<=146)\".center(80,'-'))\n",
    "print(\"\\n% de estudiantes (129>=x<=146)\",sumaDos*100,\"%\")\n",
    "datos1 = [arg1[i] for i in indices1]\n",
    "print(\"\\nVector de estudiantes:\")\n",
    "print(\"\\n\",datos1,\"\\n\\n\")\n",
    "\n",
    "sumaDos2=np.where((arg2>1.39) &(arg2>=1.41),1,0).sum()/np.size(arg2)\n",
    "indices2 = np.where((arg2 > 1.39) & (arg2 >= 1.41))\n",
    "print(\"Elementos dentro del rango (1.39<x>=1.41)\".center(80,'-'))\n",
    "print(\"\\n% de tornillos (1.39<x>=1.41)\",sumaDos2*100,\"%\")\n",
    "datos2 = [arg2[i] for i in indices2]\n",
    "print(\"\\nVector de tornillos:\")\n",
    "print(\"\\n\",datos2)"
   ]
  },
  {
   "cell_type": "markdown",
   "id": "0a32a0dc",
   "metadata": {},
   "source": [
    "### Frecuencias - Serie 1"
   ]
  },
  {
   "cell_type": "code",
   "execution_count": 39,
   "id": "7aec8024",
   "metadata": {},
   "outputs": [
    {
     "name": "stdout",
     "output_type": "stream",
     "text": [
      "-------------------------Frecuencias absolutas simples--------------------------\n",
      "[1 3 3 1 1 1 1 2 3 1 1 1 5 1 1 1 2 1 3 1 3 1 2 1 1 2 1 1 2 1 1]\n",
      "------------------------Frecuencias absolutas acumuladas------------------------\n",
      "[ 1  4  7  8  9 10 11 13 16 17 18 19 24 25 26 27 29 30 33 34 37 38 40 41\n",
      " 42 44 45 46 48 49 50]\n",
      "-------------------------Frecuencias relativas simples--------------------------\n",
      "[ 2.  6.  6.  2.  2.  2.  2.  4.  6.  2.  2.  2. 10.  2.  2.  2.  4.  2.\n",
      "  6.  2.  6.  2.  4.  2.  2.  4.  2.  2.  4.  2.  2.]\n",
      "------------------------Frecuencias relativas acumuladas------------------------\n",
      "[  2.   8.  14.  16.  18.  20.  22.  26.  32.  34.  36.  38.  48.  50.\n",
      "  52.  54.  58.  60.  66.  68.  74.  76.  80.  82.  84.  88.  90.  92.\n",
      "  96.  98. 100.]\n"
     ]
    }
   ],
   "source": [
    "variables1,repetidas1=np.unique(arg1,return_counts=True)\n",
    "frecuencias_absolutas_simple1=repetidas1\n",
    "frecuencias_absolutas_acumuladas1=np.cumsum(frecuencias_absolutas_simple1)\n",
    "frecuencias_relativas_simple1=np.round((frecuencias_absolutas_simple1/np.size(arg1))*100,2)\n",
    "frecuencias_relativas_acumuladas1=np.cumsum(frecuencias_relativas_simple1)\n",
    "print(\"Frecuencias absolutas simples\".center(80,'-'))\n",
    "print(frecuencias_absolutas_simple1)\n",
    "print(\"Frecuencias absolutas acumuladas\".center(80,'-'))\n",
    "print(frecuencias_absolutas_acumuladas1)\n",
    "print(\"Frecuencias relativas simples\".center(80,'-'))\n",
    "print(frecuencias_relativas_simple1)\n",
    "print(\"Frecuencias relativas acumuladas\".center(80,'-'))\n",
    "print(frecuencias_relativas_acumuladas1)"
   ]
  },
  {
   "cell_type": "markdown",
   "id": "f82fdc47",
   "metadata": {},
   "source": [
    "### Frecuencias - Serie 2"
   ]
  },
  {
   "cell_type": "code",
   "execution_count": 59,
   "id": "b3a0cbbd",
   "metadata": {},
   "outputs": [
    {
     "name": "stdout",
     "output_type": "stream",
     "text": [
      "-------------------------Frecuencias absolutas simples--------------------------\n",
      "[1 1 1 2 1 1 4 1 2 2 1 1 1 2 1 2 2 2 1 3 2 2 2 2 1 1 2 3 1 1 1]\n",
      "------------------------Frecuencias absolutas acumuladas------------------------\n",
      "[ 1  2  3  5  6  7 11 12 14 16 17 18 19 21 22 24 26 28 29 32 34 36 38 40\n",
      " 41 42 44 47 48 49 50]\n",
      "-------------------------Frecuencias relativas simples--------------------------\n",
      "[2. 2. 2. 4. 2. 2. 8. 2. 4. 4. 2. 2. 2. 4. 2. 4. 4. 4. 2. 6. 4. 4. 4. 4.\n",
      " 2. 2. 4. 6. 2. 2. 2.]\n",
      "------------------------Frecuencias relativas acumuladas------------------------\n",
      "[  2.   4.   6.  10.  12.  14.  22.  24.  28.  32.  34.  36.  38.  42.\n",
      "  44.  48.  52.  56.  58.  64.  68.  72.  76.  80.  82.  84.  88.  94.\n",
      "  96.  98. 100.]\n"
     ]
    }
   ],
   "source": [
    "variables2,repetidas2=np.unique(arg2,return_counts=True)\n",
    "frecuencias_absolutas_simple2=repetidas2\n",
    "frecuencias_absolutas_acumuladas2=np.cumsum(frecuencias_absolutas_simple2)\n",
    "frecuencias_relativas_simple2=np.round((frecuencias_absolutas_simple2/np.size(arg2))*100,2)\n",
    "frecuencias_relativas_acumuladas2=np.cumsum(frecuencias_relativas_simple2)\n",
    "print(\"Frecuencias absolutas simples\".center(80,'-'))\n",
    "print(frecuencias_absolutas_simple2)\n",
    "print(\"Frecuencias absolutas acumuladas\".center(80,'-'))\n",
    "print(frecuencias_absolutas_acumuladas2)\n",
    "print(\"Frecuencias relativas simples\".center(80,'-'))\n",
    "print(frecuencias_relativas_simple2)\n",
    "print(\"Frecuencias relativas acumuladas\".center(80,'-'))\n",
    "print(frecuencias_relativas_acumuladas2)"
   ]
  },
  {
   "cell_type": "code",
   "execution_count": 40,
   "id": "b39e94de",
   "metadata": {},
   "outputs": [
    {
     "name": "stdout",
     "output_type": "stream",
     "text": [
      "-------------------------Frecuencias absolutas simples--------------------------\n",
      "[1 1 1 2 1 1 4 1 2 2 1 1 1 2 1 2 2 2 1 3 2 2 2 2 1 1 2 3 1 1 1]\n",
      "------------------------Frecuencias absolutas acumuladas------------------------\n",
      "[ 1  2  3  5  6  7 11 12 14 16 17 18 19 21 22 24 26 28 29 32 34 36 38 40\n",
      " 41 42 44 47 48 49 50]\n",
      "-------------------------Frecuencias relativas simples--------------------------\n",
      "[2. 2. 2. 4. 2. 2. 8. 2. 4. 4. 2. 2. 2. 4. 2. 4. 4. 4. 2. 6. 4. 4. 4. 4.\n",
      " 2. 2. 4. 6. 2. 2. 2.]\n",
      "------------------------Frecuencias relativas acumuladas------------------------\n",
      "[  2.   4.   6.  10.  12.  14.  22.  24.  28.  32.  34.  36.  38.  42.\n",
      "  44.  48.  52.  56.  58.  64.  68.  72.  76.  80.  82.  84.  88.  94.\n",
      "  96.  98. 100.]\n"
     ]
    }
   ],
   "source": [
    "variables2,repetidas2=np.unique(arg2,return_counts=True)\n",
    "frecuencias_absolutas_simple2=repetidas2\n",
    "frecuencias_absolutas_acumuladas2=np.cumsum(frecuencias_absolutas_simple2)\n",
    "frecuencias_relativas_simple2=np.round((frecuencias_absolutas_simple2/np.size(arg2))*100,2)\n",
    "frecuencias_relativas_acumuladas2=np.cumsum(frecuencias_relativas_simple2)\n",
    "print(\"Frecuencias absolutas simples\".center(80,'-'))\n",
    "print(frecuencias_absolutas_simple2)\n",
    "print(\"Frecuencias absolutas acumuladas\".center(80,'-'))\n",
    "print(frecuencias_absolutas_acumuladas2)\n",
    "print(\"Frecuencias relativas simples\".center(80,'-'))\n",
    "print(frecuencias_relativas_simple2)\n",
    "print(\"Frecuencias relativas acumuladas\".center(80,'-'))\n",
    "print(frecuencias_relativas_acumuladas2)"
   ]
  },
  {
   "cell_type": "markdown",
   "id": "6fb9420f",
   "metadata": {},
   "source": [
    "### Media, mediana, moda, cuartiles, deciles, percentiles - Serie 1"
   ]
  },
  {
   "cell_type": "code",
   "execution_count": 94,
   "id": "5692336c",
   "metadata": {},
   "outputs": [
    {
     "name": "stdout",
     "output_type": "stream",
     "text": [
      "----------------------Media aritmetica----------------------\n",
      "151.48 \n",
      "\n",
      "----------Media aritmetica de valores no agrupados----------\n",
      "151.48 ----- Utilizando sum\n",
      "151.48 ----- Utilizando mean\n",
      "\n",
      "--------------Media Geometrica datos agrupados--------------\n",
      "150.68719926634367 \n",
      "\n",
      "-----------Media Geometrica de datos no agrupados-----------\n",
      "150.68719926634367 ----- Utilizando numpy\n",
      "150.68719926634367 ----- Utilizando statistics\n",
      "\n",
      "----------------------Media armonica H----------------------\n",
      "149.90230829714335 \n",
      "\n",
      "--------------------------Mediana---------------------------\n",
      "148.5 \n",
      "\n",
      "----------------------------Moda----------------------------\n",
      "146.0 \n",
      "\n",
      "----------------------Multiples modas-----------------------\n",
      "[146.0] \n",
      "\n",
      "-------------------------Cuartiles--------------------------\n",
      "[137.0, 148.5, 163.75] \n",
      "\n",
      "--------------------------Deciles---------------------------\n",
      "[131.0, 135.2, 142.0, 146.0, 148.5, 157.8, 162.0, 166.8, 174.8] \n",
      "\n",
      "---------------------------------------------------------Percentiles---------------------------------------------------------\n",
      "[127.51, 128.02, 128.53, 129.0, 129.0, 129.0, 129.0, 129.16, 130.18, 131.0, 131.0, 131.0, 131.0, 131.14, 131.65, 132.16, 132.67, 133.36, 134.38, 135.2, 135.71, 136.22, 136.73, 137.0, 137.0, 138.3, 140.85, 142.0, 142.0, 142.0, 142.0, 142.32, 142.83, 143.34, 143.85, 144.36, 144.87, 145.38, 145.89, 146.0, 146.0, 146.0, 146.0, 146.0, 146.0, 146.0, 146.0, 146.48, 146.99, 148.5, 150.01, 150.52, 151.03, 151.54, 152.0, 152.0, 152.28, 154.32, 156.27, 157.8, 159.0, 159.0, 159.0, 159.0, 159.15, 159.66, 160.34, 161.36, 162.0, 162.0, 162.0, 162.0, 162.23, 162.74, 163.75, 165.28, 166.0, 166.0, 166.29, 166.8, 167.31, 167.82, 169.32, 171.36, 172.0, 172.0, 172.37, 172.88, 173.78, 174.8, 176.23, 177.76, 178.0, 178.0, 178.45, 178.96, 179.47, 179.98, 180.49]\n"
     ]
    }
   ],
   "source": [
    "print(\"Media aritmetica\".center(60,'-'))\n",
    "ma_agrupados1=variables1*repetidas1\n",
    "print(np.sum(ma_agrupados1)/np.size(arg1),\"\\n\")\n",
    "\n",
    "print(\"Media aritmetica de valores no agrupados\".center(60,'-'))\n",
    "print(np.sum(arg1)/np.size(arg1),\"----- Utilizando sum\")\n",
    "print(np.mean(arg1),\"----- Utilizando mean\\n\")\n",
    "\n",
    "print(\"Media Geometrica datos agrupados\".center(60,'-'))\n",
    "media_g_agrupados1=np.power(np.product(variables1**repetidas1),1/np.size(arg1))\n",
    "print(media_g_agrupados1,\"\\n\")\n",
    "\n",
    "\n",
    "print(\"Media Geometrica de datos no agrupados\".center(60,'-'))\n",
    "media_g_noagrupados1=np.power(np.product(arg1),1/np.size(arg1))\n",
    "print(media_g_noagrupados1,\"----- Utilizando numpy\")\n",
    "print(sts.geometric_mean(arg1),\"----- Utilizando statistics\\n\")\n",
    "\n",
    "print(\"Media armonica H\".center(60,'-'))\n",
    "print(sts.harmonic_mean(arg1),\"\\n\")\n",
    "\n",
    "print(\"Mediana\".center(60,'-'))\n",
    "print(np.median(arg1),\"\\n\")\n",
    "\n",
    "print(\"Moda\".center(60,'-'))\n",
    "print(sts.mode(arg1),\"\\n\")\n",
    "\n",
    "print(\"Multiples modas\".center(60,'-'))\n",
    "print(sts.multimode(arg1),\"\\n\")\n",
    "\n",
    "print(\"Cuartiles\".center(60,'-'))\n",
    "print([round(q, 2) for q in sts.quantiles(arg1, n=4)],\"\\n\")\n",
    "\n",
    "print(\"Deciles\".center(60,'-'))\n",
    "print([round(q, 2) for q in sts.quantiles(arg1, n=10)],\"\\n\")\n",
    "\n",
    "print(\"Percentiles\".center(125,'-'))\n",
    "print([round(q, 2) for q in sts.quantiles(arg1, n=100)])"
   ]
  },
  {
   "cell_type": "markdown",
   "id": "05aafa0a",
   "metadata": {},
   "source": [
    "### Media, mediana, moda, cuartiles, deciles, percentiles - Serie 2"
   ]
  },
  {
   "cell_type": "code",
   "execution_count": 96,
   "id": "65c52cb7",
   "metadata": {},
   "outputs": [
    {
     "name": "stdout",
     "output_type": "stream",
     "text": [
      "----------------------Media aritmetica----------------------\n",
      "1.417799997329712 \n",
      "\n",
      "----------Media aritmetica de valores no agrupados----------\n",
      "1.417799835205078 \t----- Utilizando sum\n",
      "1.4177998 \t\t----- Utilizando mean\n",
      "\n",
      "--------------Media Geometrica datos agrupados--------------\n",
      "1.4128346475780003 \n",
      "\n",
      "-----------Media Geometrica de datos no agrupados-----------\n",
      "1.4128346462724113 ----- Utilizando numpy\n",
      "1.4128346475780003 ----- Utilizando statistics\n",
      "\n",
      "----------------------Media armonica H----------------------\n",
      "1.4078154270102639 \n",
      "\n",
      "--------------------------Mediana---------------------------\n",
      "1.42 \n",
      "\n",
      "----------------------------Moda----------------------------\n",
      "1.29 \n",
      "\n",
      "----------------------Multiples modas-----------------------\n",
      "[1.29] \n",
      "\n",
      "-------------------------Cuartiles--------------------------\n",
      "[1.31, 1.42, 1.52] \n",
      "\n",
      "--------------------------Deciles---------------------------\n",
      "[1.24, 1.29, 1.32, 1.39, 1.42, 1.49, 1.51, 1.54, 1.57] \n",
      "\n",
      "---------------------------------------------------------Percentiles---------------------------------------------------------\n",
      "[1.19, 1.2, 1.21, 1.22, 1.23, 1.23, 1.24, 1.24, 1.24, 1.24, 1.25, 1.25, 1.27, 1.28, 1.29, 1.29, 1.29, 1.29, 1.29, 1.29, 1.29, 1.29, 1.3, 1.3, 1.31, 1.31, 1.31, 1.31, 1.32, 1.32, 1.32, 1.33, 1.34, 1.34, 1.35, 1.36, 1.37, 1.38, 1.39, 1.39, 1.39, 1.39, 1.4, 1.4, 1.41, 1.41, 1.41, 1.41, 1.42, 1.42, 1.42, 1.43, 1.44, 1.44, 1.44, 1.45, 1.45, 1.47, 1.49, 1.49, 1.49, 1.49, 1.49, 1.5, 1.5, 1.5, 1.5, 1.51, 1.51, 1.51, 1.51, 1.52, 1.52, 1.52, 1.52, 1.53, 1.53, 1.53, 1.53, 1.54, 1.54, 1.55, 1.55, 1.56, 1.56, 1.56, 1.56, 1.57, 1.57, 1.57, 1.57, 1.57, 1.57, 1.58, 1.58, 1.59, 1.59, 1.6, 1.6]\n"
     ]
    }
   ],
   "source": [
    "print(\"Media aritmetica\".center(60,'-'))\n",
    "ma_agrupados2=variables2*repetidas2\n",
    "print(np.sum(ma_agrupados2)/np.size(arg2),\"\\n\")\n",
    "\n",
    "print(\"Media aritmetica de valores no agrupados\".center(60,'-'))\n",
    "print(np.sum(arg2)/np.size(arg2),\"\\t----- Utilizando sum\")\n",
    "print(np.mean(arg2),\"\\t\\t----- Utilizando mean\\n\")\n",
    "\n",
    "print(\"Media Geometrica datos agrupados\".center(60,'-'))\n",
    "media_g_agrupados2=np.power(np.product(variables2**repetidas2),1/np.size(arg2))\n",
    "print(media_g_agrupados2,\"\\n\")\n",
    "\n",
    "\n",
    "print(\"Media Geometrica de datos no agrupados\".center(60,'-'))\n",
    "media_g_noagrupados2=np.power(np.product(arg2),1/np.size(arg2))\n",
    "print(media_g_noagrupados2,\"----- Utilizando numpy\")\n",
    "print(sts.geometric_mean(arg2),\"----- Utilizando statistics\\n\")\n",
    "\n",
    "print(\"Media armonica H\".center(60,'-'))\n",
    "print(sts.harmonic_mean(arg2),\"\\n\")\n",
    "\n",
    "print(\"Mediana\".center(60,'-'))\n",
    "print(np.median(arg2),\"\\n\")\n",
    "\n",
    "print(\"Moda\".center(60,'-'))\n",
    "print(sts.mode(arg2),\"\\n\")\n",
    "\n",
    "print(\"Multiples modas\".center(60,'-'))\n",
    "print(sts.multimode(arg2),\"\\n\")\n",
    "\n",
    "print(\"Cuartiles\".center(60,'-'))\n",
    "print([round(q, 2) for q in sts.quantiles(arg2, n=4)],\"\\n\")\n",
    "\n",
    "print(\"Deciles\".center(60,'-'))\n",
    "print([round(q, 2) for q in sts.quantiles(arg2, n=10)],\"\\n\")\n",
    "\n",
    "print(\"Percentiles\".center(125,'-'))\n",
    "print([round(q, 2) for q in sts.quantiles(arg2, n=100)])"
   ]
  },
  {
   "cell_type": "markdown",
   "id": "cb5a35db",
   "metadata": {},
   "source": [
    "### Histograma - Serie 1"
   ]
  },
  {
   "cell_type": "code",
   "execution_count": 104,
   "id": "6440d1ef",
   "metadata": {},
   "outputs": [
    {
     "name": "stdout",
     "output_type": "stream",
     "text": [
      "[128 133 138 143 148 153 158 163 168 173] 5.2\n",
      "(array([8., 5., 3., 9., 4., 1., 7., 4., 4.]), array([128., 133., 138., 143., 148., 153., 158., 163., 168., 173.]), <BarContainer object of 9 artists>)\n"
     ]
    },
    {
     "data": {
      "image/png": "[encoded data removed]",
      "text/plain": [
       "<Figure size 640x480 with 1 Axes>"
      ]
     },
     "metadata": {},
     "output_type": "display_data"
    }
   ],
   "source": [
    "hist1=arg1\n",
    "#print(hist1)\n",
    "rango1=arg1[49]-arg1[0]\n",
    "\n",
    "#intervalos de la clase\n",
    "intervalos1=rango1/10\n",
    "b1=np.arange(arg1[0],arg1[49],intervalos1,dtype=np.int16)\n",
    "print(b1,intervalos1)\n",
    "fig, ax = plt.subplots()\n",
    "intervalos_clase1=ax.hist(arg1, bins=b1,range=(arg1[0],arg1[49]), linewidth=0.5, edgecolor=\"white\")\n",
    "plt.xticks(fontsize=8)\n",
    "ax.set(xlim=(126, 175), xticks=intervalos_clase1[1],\n",
    "       ylim=(0, 11), yticks=np.arange(0, 11, 1,dtype=np.int16))\n",
    "print(intervalos_clase1)\n",
    "ax.grid(True)"
   ]
  },
  {
   "cell_type": "markdown",
   "id": "cd2170e1",
   "metadata": {},
   "source": [
    "### Histograma - Serie 2"
   ]
  },
  {
   "cell_type": "code",
   "execution_count": 113,
   "id": "77162023",
   "metadata": {},
   "outputs": [
    {
     "name": "stdout",
     "output_type": "stream",
     "text": [
      "[1.2  1.24 1.28 1.32 1.36 1.4  1.44 1.48 1.52 1.56] 0.03999999761581421\n",
      "(array([4., 2., 9., 2., 4., 6., 1., 7., 6.]), array([1.20019531, 1.24023438, 1.28027344, 1.3203125 , 1.36035156,\n",
      "       1.40039062, 1.44042969, 1.48046875, 1.51953125, 1.55957031]), <BarContainer object of 9 artists>)\n"
     ]
    },
    {
     "data": {
      "image/png": "[encoded data removed]",
      "text/plain": [
       "<Figure size 640x480 with 1 Axes>"
      ]
     },
     "metadata": {},
     "output_type": "display_data"
    }
   ],
   "source": [
    "#intervalos de la clase\n",
    "intervalos2=rango2/10\n",
    "b2=np.arange(arg2[0],arg2[49],intervalos2,dtype=np.float16)\n",
    "b2 = np.round(b2, decimals=2)\n",
    "#b=intervalos_clase(arg2[0],arg2[49],intervalos,9)\n",
    "print(b2,intervalos2)\n",
    "fig, ax = plt.subplots()\n",
    "intervalos_clase2=ax.hist(arg2, bins=b2,range=(arg2[0],arg2[49]), linewidth=0.5, edgecolor=\"white\")\n",
    "plt.xticks(fontsize=8)\n",
    "\n",
    "ax.set(xlim=(1.18, 1.58), xticks=intervalos_clase2[1],\n",
    "       ylim=(0, 10), yticks=np.arange(0, 10, 1,dtype=np.int16))\n",
    "print(intervalos_clase2)\n",
    "ax.grid(True)"
   ]
  }
 ],
 "metadata": {
  "kernelspec": {
   "display_name": "Python 3 (ipykernel)",
   "language": "python",
   "name": "python3"
  },
  "language_info": {
   "codemirror_mode": {
    "name": "ipython",
    "version": 3
   },
   "file_extension": ".py",
   "mimetype": "text/x-python",
   "name": "python",
   "nbconvert_exporter": "python",
   "pygments_lexer": "ipython3",
   "version": "3.10.9"
  }
 },
 "nbformat": 4,
 "nbformat_minor": 5
}
